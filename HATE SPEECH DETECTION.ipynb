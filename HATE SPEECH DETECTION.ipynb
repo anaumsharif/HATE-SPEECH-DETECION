{
 "cells": [
  {
   "cell_type": "code",
   "execution_count": 11,
   "id": "b1fa8747",
   "metadata": {},
   "outputs": [],
   "source": [
    "import pandas as pd\n",
    "\n",
    "train = pd.read_csv('train.csv')\n",
    "test = pd.read_csv('test.csv')\n"
   ]
  },
  {
   "cell_type": "code",
   "execution_count": 12,
   "id": "10572073",
   "metadata": {},
   "outputs": [
    {
     "data": {
      "text/plain": [
       "('Training Set:', (31962, 3), 31962)"
      ]
     },
     "execution_count": 12,
     "metadata": {},
     "output_type": "execute_result"
    }
   ],
   "source": [
    "\"Training Set:\"% train.columns, train.shape, len(train)"
   ]
  },
  {
   "cell_type": "code",
   "execution_count": 13,
   "id": "a8f97372",
   "metadata": {},
   "outputs": [
    {
     "data": {
      "text/plain": [
       "('Test Set:', (17197, 2), 17197)"
      ]
     },
     "execution_count": 13,
     "metadata": {},
     "output_type": "execute_result"
    }
   ],
   "source": [
    "\"Test Set:\"% test.columns, test.shape, len(test)"
   ]
  },
  {
   "cell_type": "code",
   "execution_count": 14,
   "id": "4f49354d",
   "metadata": {},
   "outputs": [],
   "source": [
    "import re\n",
    "def  clean_text(df, text_field):\n",
    "    df[text_field] = df[text_field].str.lower()\n",
    "    df[text_field] = df[text_field].apply(lambda elem: re.sub(r\"(@[A-Za-z0-9]+)|([^0-9A-Za-z \\t])|(\\w+:\\/\\/\\S+)|^rt|http.+?\", \"\", elem))  \n",
    "    return df"
   ]
  },
  {
   "cell_type": "code",
   "execution_count": 15,
   "id": "650cb0d1",
   "metadata": {},
   "outputs": [],
   "source": [
    "test_clean = clean_text(test, \"tweet\")\n",
    "train_clean = clean_text(train, \"tweet\")"
   ]
  },
  {
   "cell_type": "code",
   "execution_count": 16,
   "id": "2ba4bef9",
   "metadata": {},
   "outputs": [
    {
     "data": {
      "text/plain": [
       "1    29720\n",
       "0    29720\n",
       "Name: label, dtype: int64"
      ]
     },
     "execution_count": 16,
     "metadata": {},
     "output_type": "execute_result"
    }
   ],
   "source": [
    "from sklearn.utils import resample\n",
    "\n",
    "\n",
    "train_majority = train_clean[train_clean.label==0]\n",
    "train_minority = train_clean[train_clean.label==1]\n",
    "train_minority_upsampled = resample(train_minority, \n",
    "                                 replace=True,    \n",
    "                                 n_samples=len(train_majority),   \n",
    "                                 random_state=123)\n",
    "train_upsampled = pd.concat([train_minority_upsampled, train_majority])\n",
    "train_upsampled['label'].value_counts()"
   ]
  },
  {
   "cell_type": "code",
   "execution_count": 25,
   "id": "5e431856",
   "metadata": {},
   "outputs": [],
   "source": [
    "# Since the tweets regarding hate speech are comparatively lesser than others.\n",
    "# So in this is a situation of an imbalanced data, if you will, fit this data to train our hate speech detection model, \n",
    "# then the model will not generalize any hate speech because the data with context to the hate speech is very less than \n",
    "# the positive ones.\n",
    "# we need to prepare the data to fit properly in our model.There are a number of methods you can use to deal with this.\n",
    "# One approach is to use either oversampling or down sampling.\n",
    "# In the case of oversampling, we use a function that repeatedly samples with replacement from the military class until the \n",
    "# class is the same size as the majority.\n",
    "\n",
    "# For simplicity and reproducibility of the hate speech detection model.\n",
    "# We will use the scikit learn pipeline with an SGD classifier."
   ]
  },
  {
   "cell_type": "code",
   "execution_count": 17,
   "id": "e21f7117",
   "metadata": {},
   "outputs": [],
   "source": [
    "from sklearn.feature_extraction.text import TfidfVectorizer\n",
    "from sklearn.pipeline import Pipeline\n",
    "from sklearn.feature_extraction.text import CountVectorizer\n",
    "from sklearn.feature_extraction.text import TfidfTransformer\n",
    "from sklearn.linear_model import SGDClassifier"
   ]
  },
  {
   "cell_type": "code",
   "execution_count": 18,
   "id": "cf5978d8",
   "metadata": {},
   "outputs": [],
   "source": [
    "\n",
    "pipeline_sgd = Pipeline([\n",
    "    ('vect', CountVectorizer()),\n",
    "    ('tfidf',  TfidfTransformer()),\n",
    "    ('nb', SGDClassifier()),])"
   ]
  },
  {
   "cell_type": "markdown",
   "id": "41b95b05",
   "metadata": {},
   "source": [
    "# SPLITING DATASET "
   ]
  },
  {
   "cell_type": "code",
   "execution_count": 19,
   "id": "3b09ab0a",
   "metadata": {},
   "outputs": [],
   "source": [
    "from sklearn.model_selection import train_test_split\n"
   ]
  },
  {
   "cell_type": "code",
   "execution_count": 20,
   "id": "c8381b28",
   "metadata": {},
   "outputs": [],
   "source": [
    "X_train, X_test, y_train, y_test = train_test_split(train_upsampled['tweet'],\n",
    "                                                    train_upsampled['label'],random_state = 0)"
   ]
  },
  {
   "cell_type": "markdown",
   "id": "7054ad21",
   "metadata": {},
   "source": [
    "# MODEL TRAINING "
   ]
  },
  {
   "cell_type": "code",
   "execution_count": 21,
   "id": "f0fd73a9",
   "metadata": {},
   "outputs": [],
   "source": [
    "model = pipeline_sgd.fit(X_train, y_train)\n"
   ]
  },
  {
   "cell_type": "code",
   "execution_count": 22,
   "id": "24245e2c",
   "metadata": {},
   "outputs": [],
   "source": [
    "y_predict = model.predict(X_test)\n"
   ]
  },
  {
   "cell_type": "code",
   "execution_count": 23,
   "id": "b9f03955",
   "metadata": {},
   "outputs": [],
   "source": [
    "from sklearn.metrics import f1_score"
   ]
  },
  {
   "cell_type": "code",
   "execution_count": 24,
   "id": "4f2c93f0",
   "metadata": {},
   "outputs": [
    {
     "data": {
      "text/plain": [
       "0.9694020398640091"
      ]
     },
     "execution_count": 24,
     "metadata": {},
     "output_type": "execute_result"
    }
   ],
   "source": [
    "f1_score(y_test, y_predict)"
   ]
  },
  {
   "cell_type": "code",
   "execution_count": null,
   "id": "2e224cd8",
   "metadata": {},
   "outputs": [],
   "source": []
  },
  {
   "cell_type": "code",
   "execution_count": null,
   "id": "55068add",
   "metadata": {},
   "outputs": [],
   "source": []
  }
 ],
 "metadata": {
  "kernelspec": {
   "display_name": "Python 3 (ipykernel)",
   "language": "python",
   "name": "python3"
  },
  "language_info": {
   "codemirror_mode": {
    "name": "ipython",
    "version": 3
   },
   "file_extension": ".py",
   "mimetype": "text/x-python",
   "name": "python",
   "nbconvert_exporter": "python",
   "pygments_lexer": "ipython3",
   "version": "3.11.4"
  }
 },
 "nbformat": 4,
 "nbformat_minor": 5
}
